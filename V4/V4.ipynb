{
 "cells": [
  {
   "cell_type": "markdown",
   "id": "8a184d68",
   "metadata": {},
   "source": [
    "# Housing V4 - Modular Implementation\n",
    "\n",
    "This notebook demonstrates the V4 modular implementation of the housing price prediction project. Unlike V3 which was a monolithic notebook, V4 is structured as a production-ready Python application with clear module boundaries.\n",
    "\n",
    "## Key Improvements in V4:\n",
    "- **Modular Design**: Separated into logical components (data loading, preprocessing, modeling, evaluation)\n",
    "- **Configuration Management**: YAML-based configuration for easy experimentation\n",
    "- **CLI Interface**: Can be run from command line with different modes\n",
    "- **Model Persistence**: Save/load trained models and preprocessing artifacts\n",
    "- **Better Error Handling**: Robust validation and informative error messages\n",
    "- **Production Ready**: Structured for deployment and maintenance"
   ]
  },
  {
   "cell_type": "markdown",
   "id": "469dbb33",
   "metadata": {},
   "source": [
    "## Setup and Configuration"
   ]
  },
  {
   "cell_type": "code",
   "execution_count": null,
   "id": "f28e43e5",
   "metadata": {},
   "outputs": [],
   "source": [
    "import sys\n",
    "from pathlib import Path\n",
    "\n",
    "# Add src to path for imports\n",
    "sys.path.append(str(Path.cwd() / 'src'))\n",
    "\n",
    "# Import our modular components\n",
    "from src.config import Config\n",
    "from src.data_loader import HousingDataLoader\n",
    "from src.preprocessor import HousingPreprocessor\n",
    "from src.model import HousingPriceModel, ModelTrainer\n",
    "from src.evaluator import ModelEvaluator\n",
    "from src.utils import set_random_seed, create_directories\n",
    "\n",
    "# Standard imports\n",
    "import pandas as pd\n",
    "import numpy as np\n",
    "import torch\n",
    "import matplotlib.pyplot as plt"
   ]
  },
  {
   "cell_type": "markdown",
   "id": "ffd656f9",
   "metadata": {},
   "source": [
    "## 1. Initialize Configuration"
   ]
  },
  {
   "cell_type": "code",
   "execution_count": null,
   "id": "0021d0de",
   "metadata": {},
   "outputs": [],
   "source": [
    "# Create necessary directories\n",
    "create_directories()\n",
    "\n",
    "# Load configuration\n",
    "config = Config('config.yaml')\n",
    "\n",
    "# Set random seed for reproducibility\n",
    "set_random_seed(config.SEED)\n",
    "\n",
    "print(\"Configuration loaded successfully!\")\n",
    "print(f\"Device: {config.device}\")\n",
    "print(f\"Model architecture: {config.MODEL['hidden_sizes']}\")\n",
    "print(f\"Training epochs: {config.MODEL['epochs']}\")"
   ]
  },
  {
   "cell_type": "markdown",
   "id": "3b8b4748",
   "metadata": {},
   "source": [
    "## 2. Data Loading"
   ]
  },
  {
   "cell_type": "code",
   "execution_count": null,
   "id": "9b2b693f",
   "metadata": {},
   "outputs": [],
   "source": [
    "# Initialize data loader\n",
    "data_loader = HousingDataLoader(config)\n",
    "\n",
    "# Load training and test data\n",
    "train_data, test_data = data_loader.load_data()\n",
    "\n",
    "# Display basic information\n",
    "print(\"\\nData Overview:\")\n",
    "print(f\"Training samples: {len(train_data)}\")\n",
    "print(f\"Test samples: {len(test_data)}\")\n",
    "print(f\"Features in training: {train_data.shape[1] - 2}\")  # Exclude Id and SalePrice\n",
    "\n",
    "# Preview the data\n",
    "display(train_data.head())"
   ]
  },
  {
   "cell_type": "markdown",
   "id": "54254357",
   "metadata": {},
   "source": [
    "## 3. Data Preprocessing"
   ]
  },
  {
   "cell_type": "code",
   "execution_count": null,
   "id": "fef26934",
   "metadata": {},
   "outputs": [],
   "source": [
    "# Initialize preprocessor\n",
    "preprocessor = HousingPreprocessor(config)\n",
    "\n",
    "# Run complete preprocessing pipeline\n",
    "X_train, X_test, y_train = preprocessor.preprocess(train_data, test_data)\n",
    "\n",
    "print(f\"\\nPreprocessing Results:\")\n",
    "print(f\"Training features shape: {X_train.shape}\")\n",
    "print(f\"Test features shape: {X_test.shape}\")\n",
    "print(f\"Target shape: {y_train.shape}\")\n",
    "print(f\"Target range (log): [{y_train.min():.3f}, {y_train.max():.3f}]\")"
   ]
  },
  {
   "cell_type": "markdown",
   "id": "18a703f3",
   "metadata": {},
   "source": [
    "## 4. Model Training"
   ]
  },
  {
   "cell_type": "code",
   "execution_count": null,
   "id": "8762afdc",
   "metadata": {},
   "outputs": [],
   "source": [
    "# Initialize model and trainer\n",
    "model = HousingPriceModel(X_train.shape[1], config)\n",
    "trainer = ModelTrainer(model, config)\n",
    "\n",
    "print(f\"Model Architecture:\")\n",
    "print(model)\n",
    "print(f\"\\nTotal parameters: {sum(p.numel() for p in model.parameters()):,}\")"
   ]
  },
  {
   "cell_type": "code",
   "execution_count": null,
   "id": "82f08660",
   "metadata": {},
   "outputs": [],
   "source": [
    "# Train the model\n",
    "print(\"Starting training...\")\n",
    "trained_model = trainer.train(X_train, y_train)"
   ]
  },
  {
   "cell_type": "markdown",
   "id": "572ca8c3",
   "metadata": {},
   "source": [
    "## 5. Model Evaluation"
   ]
  },
  {
   "cell_type": "code",
   "execution_count": null,
   "id": "8e816e51",
   "metadata": {},
   "outputs": [],
   "source": [
    "# Initialize evaluator\n",
    "evaluator = ModelEvaluator(config)\n",
    "\n",
    "# Evaluate model performance\n",
    "metrics = evaluator.evaluate_model(trained_model, X_train, y_train)\n",
    "\n",
    "print(f\"\\nFinal Training Metrics:\")\n",
    "for metric, value in metrics.items():\n",
    "    if metric == 'rmse':\n",
    "        print(f\"  {metric.upper()}: ${value:,.2f}\")\n",
    "    else:\n",
    "        print(f\"  {metric.upper()}: {value:.5f}\")"
   ]
  },
  {
   "cell_type": "markdown",
   "id": "82b8a33b",
   "metadata": {},
   "source": [
    "## 6. Cross-Validation"
   ]
  },
  {
   "cell_type": "code",
   "execution_count": null,
   "id": "ed6405c9",
   "metadata": {},
   "outputs": [],
   "source": [
    "# Perform cross-validation\n",
    "print(\"Performing cross-validation...\")\n",
    "cv_scores = evaluator.cross_validate(X_train, y_train)\n",
    "\n",
    "print(f\"\\nCross-Validation Summary:\")\n",
    "print(f\"  Individual fold scores: {[f'{score:.5f}' for score in cv_scores]}\")\n",
    "print(f\"  Mean ± Std: {np.mean(cv_scores):.5f} ± {np.std(cv_scores):.5f}\")"
   ]
  },
  {
   "cell_type": "markdown",
   "id": "bf3a195d",
   "metadata": {},
   "source": [
    "## 7. Model Persistence"
   ]
  },
  {
   "cell_type": "code",
   "execution_count": null,
   "id": "8395e746",
   "metadata": {},
   "outputs": [],
   "source": [
    "# Save the trained model\n",
    "model_path = 'models/best_model_v4.pth'\n",
    "trainer.save_model(model_path)\n",
    "\n",
    "# Demonstrate loading (optional)\n",
    "# new_model = HousingPriceModel(X_train.shape[1], config)\n",
    "# new_trainer = ModelTrainer(new_model, config)\n",
    "# loaded_model = new_trainer.load_model(model_path)"
   ]
  },
  {
   "cell_type": "markdown",
   "id": "fe46f400",
   "metadata": {},
   "source": [
    "## 8. Generate Predictions"
   ]
  },
  {
   "cell_type": "code",
   "execution_count": null,
   "id": "b2eddee8",
   "metadata": {},
   "outputs": [],
   "source": [
    "# Make predictions on test set\n",
    "test_predictions = trainer.predict(X_test)\n",
    "\n",
    "# Convert back to original scale\n",
    "test_predictions_original = np.expm1(test_predictions.flatten())\n",
    "\n",
    "print(f\"Test Predictions Summary:\")\n",
    "print(f\"  Number of predictions: {len(test_predictions_original)}\")\n",
    "print(f\"  Price range: ${test_predictions_original.min():,.0f} - ${test_predictions_original.max():,.0f}\")\n",
    "print(f\"  Mean price: ${test_predictions_original.mean():,.0f}\")\n",
    "\n",
    "# Create submission file\n",
    "submission = pd.DataFrame({\n",
    "    'Id': test_data['Id'],\n",
    "    'SalePrice': test_predictions_original\n",
    "})\n",
    "\n",
    "submission.to_csv('submissions/submission_v4_notebook.csv', index=False)\n",
    "print(f\"\\nSubmission saved: submissions/submission_v4_notebook.csv\")\n",
    "\n",
    "# Display first few predictions\n",
    "display(submission.head(10))"
   ]
  },
  {
   "cell_type": "markdown",
   "id": "8fb744c3",
   "metadata": {},
   "source": [
    "## 9. Comparison with V3\n",
    "\n",
    "### V3 Characteristics:\n",
    "- Single monolithic notebook\n",
    "- All code in one place\n",
    "- Manual configuration via variables\n",
    "- Limited reusability\n",
    "- Harder to maintain and debug\n",
    "\n",
    "### V4 Improvements:\n",
    "- **Modular Design**: Clear separation of concerns\n",
    "- **Configuration Management**: YAML-based settings\n",
    "- **Reusability**: Components can be used independently\n",
    "- **Error Handling**: Better validation and error messages\n",
    "- **Testing**: Each module can be tested separately\n",
    "- **CLI Interface**: Can run from command line\n",
    "- **Production Ready**: Suitable for deployment\n",
    "\n",
    "### Benefits:\n",
    "1. **Maintainability**: Easier to update and debug individual components\n",
    "2. **Scalability**: Can easily add new features or models\n",
    "3. **Collaboration**: Multiple developers can work on different modules\n",
    "4. **Testing**: Each component can be unit tested\n",
    "5. **Deployment**: Ready for production environments\n",
    "6. **Experimentation**: Easy to try different configurations"
   ]
  },
  {
   "cell_type": "markdown",
   "id": "d1a87264",
   "metadata": {},
   "source": [
    "## 10. Using V4 from Command Line\n",
    "\n",
    "You can also run V4 directly from the command line:\n",
    "\n",
    "```bash\n",
    "# Train the model\n",
    "python main.py --mode train\n",
    "\n",
    "# Make predictions with a saved model\n",
    "python main.py --mode predict --model-path models/best_model.pth\n",
    "\n",
    "# Run only cross-validation\n",
    "python main.py --mode evaluate\n",
    "\n",
    "# Use custom configuration\n",
    "python main.py --config custom_config.yaml --mode train\n",
    "```\n",
    "\n",
    "This makes V4 suitable for:\n",
    "- **Automated pipelines**: Can be scheduled or triggered automatically\n",
    "- **Batch processing**: Process multiple datasets or configurations\n",
    "- **Production deployment**: Integrate into larger ML systems\n",
    "- **Experimentation**: Easy A/B testing with different configurations"
   ]
  },
  {
   "cell_type": "markdown",
   "id": "c29cc8d4",
   "metadata": {},
   "source": [
    "## Summary\n",
    "\n",
    "V4 represents a significant evolution from the notebook-based approach of V3:\n",
    "\n",
    "- **Structure**: Organized into logical, reusable modules\n",
    "- **Configuration**: Externalized settings for easy experimentation  \n",
    "- **Interface**: Both notebook and CLI interfaces available\n",
    "- **Maintenance**: Much easier to update, debug, and extend\n",
    "- **Production**: Ready for real-world deployment scenarios\n",
    "\n",
    "The modular design makes it easy to:\n",
    "- Swap out different models or preprocessing steps\n",
    "- Add new evaluation metrics or visualization\n",
    "- Integrate with MLOps tools and pipelines\n",
    "- Scale to larger datasets or distributed training\n",
    "\n",
    "This architecture provides a solid foundation for further development and production use."
   ]
  }
 ],
 "metadata": {
  "language_info": {
   "name": "python"
  }
 },
 "nbformat": 4,
 "nbformat_minor": 5
}
